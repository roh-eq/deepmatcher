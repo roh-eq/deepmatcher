{
 "cells": [
  {
   "cell_type": "code",
   "execution_count": null,
   "metadata": {},
   "outputs": [],
   "source": [
    "#Importing required libraries\n",
    "\n",
    "import pandas as pd\n",
    "import deepmatcher as dm\n",
    "from sklearn.model_selection import train_test_split"
   ]
  },
  {
   "cell_type": "code",
   "execution_count": null,
   "metadata": {},
   "outputs": [],
   "source": [
    "# Importing required dataset\n",
    "\n",
    "input_data=pd.read_csv('/mnt/c/Users/Exeliq Analytics/Desktop/Deepmatcher/2019-03-26_2019-04-09_suggested_matches_a.csv')"
   ]
  },
  {
   "cell_type": "code",
   "execution_count": null,
   "metadata": {},
   "outputs": [],
   "source": [
    "#Filtering digital source title\n",
    "\n",
    "dig_data = input_data[input_data['u_original_source_name']=='Digital']"
   ]
  },
  {
   "cell_type": "code",
   "execution_count": null,
   "metadata": {},
   "outputs": [],
   "source": [
    "#Filtering tv_episode title\n",
    "\n",
    "dig_tv =dig_data [dig_data['u_entity_subtype_name']=='tv_episode']"
   ]
  },
  {
   "cell_type": "code",
   "execution_count": null,
   "metadata": {},
   "outputs": [],
   "source": [
    "#Filtering CEM Manually matched titles\n",
    "\n",
    "auto_f= dig_tv[dig_tv['is_automatch']==\"f\"]"
   ]
  },
  {
   "cell_type": "code",
   "execution_count": null,
   "metadata": {},
   "outputs": [],
   "source": [
    "#Exporting to csv for analysis\n",
    "auto_f.to_csv(\"/mnt/c/Users/Exeliq Analytics/Desktop/Deepmatcher_r/2019-03-26_2019-04-09_suggested_matches_auto_f.csv\")"
   ]
  },
  {
   "cell_type": "code",
   "execution_count": null,
   "metadata": {},
   "outputs": [],
   "source": [
    "#Importing csv \n",
    "\n",
    "df= pd.read_csv('/mnt/c/Users/Exeliq Analytics/Desktop/Deepmatcher_r/2019-03-26_2019-04-09_suggested_matches_auto_f.csv')"
   ]
  },
  {
   "cell_type": "code",
   "execution_count": null,
   "metadata": {},
   "outputs": [],
   "source": [
    "#Selecting required columns\n",
    "\n",
    "data_f=df[[\"u_entity_id\",\n",
    "\"u_name\",\n",
    "\"u_episode_number\",\n",
    "\"u_season_number\",\n",
    "\"u_proto_name\",\n",
    "\"m_entity_id\",\n",
    "\"m_name\",\n",
    "\"m_episode_number\",\n",
    "\"m_season_number\",     \n",
    "\"m_proto_name\",\n",
    "\"status\"\n",
    "]]"
   ]
  },
  {
   "cell_type": "code",
   "execution_count": null,
   "metadata": {},
   "outputs": [],
   "source": [
    "#Renaming columns as per deepmatcher's criteria\n",
    "\n",
    "f_autodata = data_f.rename(columns={'u_entity_id': 'id', 'u_name': 'left_name',\"u_episode_number\":\"left_episode_number\",\n",
    "                           \"u_season_number\": \"left_season_number\",\"u_proto_name\":\"left_proto_name\",\n",
    "                            \"m_entity_id\":\"right_id\",\"m_name\":\"right_name\",\"m_episode_number\":\"right_episode_number\",\n",
    "                            \"m_season_number\":\"right_season_number\",\n",
    "                            \"m_proto_name\":\"right_proto_name\",\"status\":\"label\"})"
   ]
  },
  {
   "cell_type": "code",
   "execution_count": null,
   "metadata": {},
   "outputs": [],
   "source": [
    "#Creating Key\n",
    "\n",
    "f_autodata[\"key\"]=f_autodata[\"id\"].astype(str)+\" \".join(\"_\")+f_autodata[\"right_id\"].astype(str)"
   ]
  },
  {
   "cell_type": "code",
   "execution_count": null,
   "metadata": {},
   "outputs": [],
   "source": [
    "#Dropping m_entity_id\n",
    "\n",
    "f_autodata = f_autodata.drop('right_id', 1)"
   ]
  },
  {
   "cell_type": "code",
   "execution_count": null,
   "metadata": {},
   "outputs": [],
   "source": [
    "#Replacing column values\n",
    "\n",
    "f_autodata.label[f_autodata.label == 'accepted'] = 1 \n",
    "f_autodata.label[f_autodata.label== 'rejected'] = 0"
   ]
  },
  {
   "cell_type": "code",
   "execution_count": null,
   "metadata": {},
   "outputs": [],
   "source": [
    "#Removing duplicates\n",
    "\n",
    "uniid_auto_f_data=f_autodata.drop_duplicates(['id'], keep='first')"
   ]
  },
  {
   "cell_type": "code",
   "execution_count": null,
   "metadata": {},
   "outputs": [],
   "source": [
    "#Creating train and test set\n",
    "\n",
    "train,test = train_test_split(uniid_auto_f_data , test_size=0.35)"
   ]
  },
  {
   "cell_type": "code",
   "execution_count": null,
   "metadata": {},
   "outputs": [],
   "source": [
    "#Creating validation set\n",
    "\n",
    "\n",
    "train,validation = train_test_split(train , test_size = 0.20)"
   ]
  },
  {
   "cell_type": "code",
   "execution_count": null,
   "metadata": {},
   "outputs": [],
   "source": [
    "#Merging train,test, validation set with the master set\n",
    "\n",
    "df_train=pd.merge(f_autodata,train[\"id\"],on=[\"id\"],how=\"inner\")\n",
    "df_test=pd.merge(f_autodata,test[\"id\"],on=[\"id\"],how=\"inner\")\n",
    "df_validation=pd.merge(f_autodata,validation[\"id\"],on=[\"id\"],how=\"inner\")"
   ]
  },
  {
   "cell_type": "code",
   "execution_count": null,
   "metadata": {},
   "outputs": [],
   "source": [
    "#processing labelled data\n",
    "\n",
    "train, validation, test = dm.data.process(\n",
    "    path='/mnt/c/Users/Exeliq Analytics/Desktop/Deepmatcher_r',\n",
    "    train='train.csv',\n",
    "    validation='validation.csv',\n",
    "    ignore_columns='key',\n",
    "    test='test.csv')"
   ]
  },
  {
   "cell_type": "code",
   "execution_count": null,
   "metadata": {},
   "outputs": [],
   "source": [
    "#defining neural network model\n",
    "\n",
    "model = dm.MatchingModel(attr_summarizer='hybrid')"
   ]
  },
  {
   "cell_type": "code",
   "execution_count": null,
   "metadata": {},
   "outputs": [],
   "source": [
    "#training model\n",
    "\n",
    "model.run_train(\n",
    "    train,\n",
    "    validation,\n",
    "    ignore_columns='key',\n",
    "    epochs=1,\n",
    "    batch_size=16,\n",
    "    best_save_path='hybrid_model.pth',\n",
    "    pos_neg_ratio=3)"
   ]
  },
  {
   "cell_type": "code",
   "execution_count": null,
   "metadata": {},
   "outputs": [],
   "source": [
    "#evaluating on test data\n",
    "results = model.run_eval(test, output_attributes = True)"
   ]
  },
  {
   "cell_type": "code",
   "execution_count": null,
   "metadata": {},
   "outputs": [],
   "source": [
    "#evaluating on unlabelled data\n",
    "\n",
    "unlabeled = dm.data.process_unlabeled(\n",
    "    path=\"/mnt/c/Users/Exeliq Analytics/Desktop/Deepmatcher/testmatches.csv\",\n",
    "    trained_model = model)"
   ]
  },
  {
   "cell_type": "code",
   "execution_count": null,
   "metadata": {},
   "outputs": [],
   "source": [
    "#obtaining predictions\n",
    "\n",
    "predictions = model.run_prediction(input_data, output_attributes=True)\n",
    "predictions.head()"
   ]
  },
  {
   "cell_type": "code",
   "execution_count": null,
   "metadata": {},
   "outputs": [],
   "source": [
    "#getting predictions on labelled data\n",
    "\n",
    "valid_predictions = model.run_prediction(validation, output_attributes=True)\n",
    "valid_predictions.head()"
   ]
  }
 ],
 "metadata": {
  "kernelspec": {
   "display_name": "Python 3",
   "language": "python",
   "name": "python3"
  },
  "language_info": {
   "codemirror_mode": {
    "name": "ipython",
    "version": 3
   },
   "file_extension": ".py",
   "mimetype": "text/x-python",
   "name": "python",
   "nbconvert_exporter": "python",
   "pygments_lexer": "ipython3",
   "version": "3.6.8"
  }
 },
 "nbformat": 4,
 "nbformat_minor": 2
}
